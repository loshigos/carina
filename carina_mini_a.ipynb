{
  "nbformat": 4,
  "nbformat_minor": 0,
  "metadata": {
    "colab": {
      "provenance": [],
      "authorship_tag": "ABX9TyM2qDn6SXyXDluHQ4rxSo8d",
      "include_colab_link": true
    },
    "kernelspec": {
      "name": "python3",
      "display_name": "Python 3"
    },
    "language_info": {
      "name": "python"
    }
  },
  "cells": [
    {
      "cell_type": "markdown",
      "metadata": {
        "id": "view-in-github",
        "colab_type": "text"
      },
      "source": [
        "<a href=\"https://colab.research.google.com/github/loshigos/carina/blob/main/carina_mini_a.ipynb\" target=\"_parent\"><img src=\"https://colab.research.google.com/assets/colab-badge.svg\" alt=\"Open In Colab\"/></a>"
      ]
    },
    {
      "cell_type": "markdown",
      "source": [
        "# **Paso 1: Estructura del paquete \"Carina\" en Colab**\n",
        "\n",
        "Primero, necesitas organizar los archivos de tu paquete dentro del entorno de Colab. Lo ideal es tener una estructura como la siguiente:\n",
        "\n",
        "Carina/\n",
        "\n",
        "├── Carina/\n",
        "\n",
        "│   ├── __init__.py\n",
        "\n",
        "│   └── tu_modulo.py\n",
        "\n",
        "├── README.md\n",
        "\n",
        "├── LICENSE\n",
        "\n",
        "├── setup.py\n",
        "\n",
        "*Carina/Carina/*: Este es el directorio interno de tu paquete.\n",
        "\n",
        "__init__.py: Un archivo vacío o que contiene inicializaciones del paquete. Esto es lo que hace que Python trate el directorio como un paquete.\n",
        "tu_modulo.py: Aquí irán tus módulos y el código principal de \"Carina\". Puedes tener varios archivos .py dentro de este directorio.\n",
        "README.md: Un archivo con información sobre tu paquete (descripción, cómo instalarlo, ejemplos, etc.).\n",
        "LICENSE: El archivo de licencia para tu paquete (por ejemplo, MIT, Apache 2.0).\n",
        "setup.py: Un script que le dice a Python cómo instalar tu paquete."
      ],
      "metadata": {
        "id": "KPYk39iavGw3"
      }
    },
    {
      "cell_type": "code",
      "execution_count": 1,
      "metadata": {
        "colab": {
          "base_uri": "https://localhost:8080/"
        },
        "id": "TRAceMHKtBjX",
        "outputId": "3f8a0c1b-8e70-44bf-ba7b-95dd5b2cb6e9"
      },
      "outputs": [
        {
          "output_type": "stream",
          "name": "stdout",
          "text": [
            "Estructura del paquete 'Carina' creada.\n"
          ]
        }
      ],
      "source": [
        "import os\n",
        "\n",
        "# Crear el directorio raíz del paquete\n",
        "os.makedirs(\"Carina\", exist_ok=True)\n",
        "os.makedirs(\"Carina/Carina\", exist_ok=True)\n",
        "\n",
        "# Crear los archivos necesarios\n",
        "with open(\"Carina/Carina/__init__.py\", \"w\") as f:\n",
        "    pass\n",
        "\n",
        "with open(\"Carina/Carina/tu_modulo.py\", \"w\") as f:\n",
        "    f.write(\"# Aquí va el código de tu módulo\")\n",
        "\n",
        "with open(\"Carina/README.md\", \"w\") as f:\n",
        "    f.write(\"# Carina\\n\\nDescripción de tu paquete.\")\n",
        "\n",
        "with open(\"Carina/LICENSE\", \"w\") as f:\n",
        "    f.write(\"MIT License\\n\\n[Manuel Caro] [2025]\") # Reemplaza con tu información\n",
        "\n",
        "with open(\"Carina/setup.py\", \"w\") as f:\n",
        "    f.write(\"\"\"\n",
        "from setuptools import setup, find_packages\n",
        "\n",
        "setup(\n",
        "    name='Carina',\n",
        "    version='0.1.0',\n",
        "    packages=find_packages(),\n",
        "    install_requires=[], # Aquí puedes listar las dependencias\n",
        "    author='Tu Nombre',\n",
        "    author_email='manuelcaro@unicordoba.edu.co',\n",
        "    description='Descripción de tu paquete Carina',\n",
        "    long_description=open('README.md').read(),\n",
        "    long_description_content_type='text/markdown',\n",
        "    url='https://github.com/loshigos/Carina', # Reemplaza con la URL de tu repositorio\n",
        "    license='MIT'\n",
        ")\n",
        "\"\"\")\n",
        "\n",
        "print(\"Estructura del paquete 'Carina' creada.\")"
      ]
    }
  ]
}